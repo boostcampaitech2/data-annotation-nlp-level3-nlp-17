{
 "cells": [
  {
   "cell_type": "code",
   "execution_count": 1,
   "metadata": {},
   "outputs": [],
   "source": [
    "#압축파일 풀기\n",
    "import zipfile\n",
    "import shutil\n",
    "import os\n",
    "folder_path = \"./tagging_data/main_annotated_data/\"\n",
    "\n",
    "zip_ = zipfile.ZipFile(os.path.join(folder_path, \"tagtog_League_of_Legend_Relation_Extraction.zip\"))\n",
    "if os.path.exists(folder_path):\n",
    "    shutil.rmtree(folder_path)\n",
    "zip_.extractall(folder_path)"
   ]
  },
  {
   "cell_type": "code",
   "execution_count": 2,
   "metadata": {},
   "outputs": [],
   "source": [
    "import json\n",
    "import glob\n",
    "import re\n",
    "import os\n",
    "\n",
    "pilot_or_main = 'main'\n",
    "#폴더 경로\n",
    "folder_name = os.path.join(folder_path, 'League_of_Legend_Relation_Extraction/')\n",
    "\n",
    "#context list\n",
    "context_name_list = os.listdir(folder_name + \"ann.json/master/pool/\"+pilot_or_main)\n",
    "\n",
    "#relation 폴더 경로\n",
    "relation_folder_paths = [folder_name + \"ann.json/master/pool/\"+pilot_or_main + \"/\"+c for c in os.listdir(folder_name + \"ann.json/master/pool/\"+pilot_or_main)]\n",
    "\n",
    "#context 폴더 경로\n",
    "# contexts_folders_paths = glob.glob(folder_name + \"plain.html/pool/*\")\n",
    "contexts_folders_paths = [folder_name + \"plain.html/pool/\"+pilot_or_main + \"/\"+c for c in context_name_list]\n",
    "\n",
    "\n",
    "#anntation_lenged 정보\n",
    "annotation_legend = folder_name + \"annotations-legend.json\"\n",
    "with open(annotation_legend,\"r\") as f:\n",
    "    annotation_legend = json.load(f)\n",
    "    "
   ]
  },
  {
   "cell_type": "code",
   "execution_count": 3,
   "metadata": {},
   "outputs": [
    {
     "data": {
      "text/plain": [
       "['T2196', 'T2077', 'T2046', 'T2258']"
      ]
     },
     "execution_count": 3,
     "metadata": {},
     "output_type": "execute_result"
    }
   ],
   "source": [
    "context_name_list"
   ]
  },
  {
   "cell_type": "code",
   "execution_count": 4,
   "metadata": {},
   "outputs": [
    {
     "data": {
      "text/plain": [
       "['./tagging_data/main_annotated_data/League_of_Legend_Relation_Extraction/ann.json/master/pool/main/T2196',\n",
       " './tagging_data/main_annotated_data/League_of_Legend_Relation_Extraction/ann.json/master/pool/main/T2077',\n",
       " './tagging_data/main_annotated_data/League_of_Legend_Relation_Extraction/ann.json/master/pool/main/T2046',\n",
       " './tagging_data/main_annotated_data/League_of_Legend_Relation_Extraction/ann.json/master/pool/main/T2258']"
      ]
     },
     "execution_count": 4,
     "metadata": {},
     "output_type": "execute_result"
    }
   ],
   "source": [
    "relation_folder_paths"
   ]
  },
  {
   "cell_type": "code",
   "execution_count": 5,
   "metadata": {},
   "outputs": [
    {
     "data": {
      "text/plain": [
       "['./tagging_data/main_annotated_data/League_of_Legend_Relation_Extraction/plain.html/pool/main/T2196',\n",
       " './tagging_data/main_annotated_data/League_of_Legend_Relation_Extraction/plain.html/pool/main/T2077',\n",
       " './tagging_data/main_annotated_data/League_of_Legend_Relation_Extraction/plain.html/pool/main/T2046',\n",
       " './tagging_data/main_annotated_data/League_of_Legend_Relation_Extraction/plain.html/pool/main/T2258']"
      ]
     },
     "execution_count": 5,
     "metadata": {},
     "output_type": "execute_result"
    }
   ],
   "source": [
    "contexts_folders_paths"
   ]
  },
  {
   "cell_type": "code",
   "execution_count": 6,
   "metadata": {},
   "outputs": [],
   "source": [
    "#relation dictionary 파일로부터 subject와 object의 entity 정보를 추출해주는 함수\n",
    "def get_needed_relation_data(tmp_relation):\n",
    "    subject_token = re.findall(\"\\(+(.+)+\\)\",annotation_legend[tmp_relation[\"relations\"][0]['classId']])[0].split(\"|\")[0]\n",
    "    if subject_token == tmp_relation['entities'][0]['classId']:\n",
    "        sub_entity, obj_entity = tmp_relation['entities']\n",
    "    else:\n",
    "        obj_entity, sub_entity  = tmp_relation['entities']\n",
    "    \n",
    "    # get preprocessed entities\n",
    "    def _get_entity(entity):\n",
    "        outputs = entity['offsets'][0]\n",
    "        outputs['type'] = annotation_legend[entity['classId']].split(\"-\")[1].lower()\n",
    "        return outputs\n",
    "    \n",
    "    output_subject = _get_entity(sub_entity)\n",
    "    output_object = _get_entity(obj_entity)\n",
    "    return output_subject, output_object"
   ]
  },
  {
   "cell_type": "code",
   "execution_count": 7,
   "metadata": {},
   "outputs": [],
   "source": [
    "#relation dictionary 파일로부터 title(relation)을 추출해주는 함수\n",
    "def get_label(relation_json):\n",
    "    label_tag = relation_json['relations'][0]['classId'] #r_6\n",
    "    try:\n",
    "        _,sub_type, label = annotation_legend[re.findall(\"\\(+(.+)+\\|\",annotation_legend[label_tag])[0]].split(\"-\")\n",
    "        return f\"{sub_type}:{label}\"\n",
    "    except:\n",
    "        _,sub_type, = annotation_legend[re.findall(\"\\(+(.+)+\\|\",annotation_legend[label_tag])[0]].split(\"-\")\n",
    "        return f\"{sub_type}:no_relation\""
   ]
  },
  {
   "cell_type": "code",
   "execution_count": 8,
   "metadata": {},
   "outputs": [],
   "source": [
    "#html 파일로부터 text만 추출해주는 함수\n",
    "def get_context_from_html(html_file):\n",
    "    html_file = re.sub(r\"\\n\",\"\", html_file)\n",
    "    return re.findall(\"(<pre.+>)(.+)(</pre>)\",html_file)[0][1]"
   ]
  },
  {
   "cell_type": "code",
   "execution_count": 9,
   "metadata": {},
   "outputs": [],
   "source": [
    "#entity 정보가 포함된 sentence를 생성해주는 함수\n",
    "def get_sentence_with_entites(subject_entity, object_entity, sentence):\n",
    "    if subject_entity['start'] < object_entity['start']:\n",
    "        entity1,entity2 = subject_entity, object_entity\n",
    "    else:\n",
    "        entity1,entity2 = object_entity, subject_entity\n",
    "    \n",
    "    #entity 시작 위치 및 길이 \n",
    "    ett1_stt, ett1_len = entity1['start'], len(entity1['text'])\n",
    "    ett2_stt, ett2_len = entity2['start'], len(entity2['text'])\n",
    "    \n",
    "    #문장 분리\n",
    "    bf, ett1, mid, ett2, af = sentence[:ett1_stt], \\\n",
    "                            sentence[ett1_stt:ett1_stt+ett1_len], \\\n",
    "                            sentence[ett1_stt+ett1_len:ett2_stt], \\\n",
    "                            sentence[ett2_stt:ett2_stt+ett2_len], \\\n",
    "                            sentence[ett2_stt+ett2_len:]\n",
    "\n",
    "    \n",
    "    if subject_entity['start'] < object_entity['start']:\n",
    "        ett1,ett2 = f\"<sbj:{ett1}>\", f\"<obj:{ett2}>\"\n",
    "    else:\n",
    "        ett1,ett2 = f\"<obj:{ett1}>\", f\"<sbj:{ett2}>\"\n",
    "    \n",
    "    return \"\".join([bf, ett1, mid, ett2, af])"
   ]
  },
  {
   "cell_type": "code",
   "execution_count": 10,
   "metadata": {},
   "outputs": [],
   "source": [
    "#dataframe column\n",
    "# id : context title(e.g : 카카오게임, 11번가 등)\n",
    "# sentence w/o entity\n",
    "# sentence w entity\n",
    "# subject_entity\n",
    "# object_entity\n",
    "# class\n",
    "\n",
    "id_list = []\n",
    "sentence_list = []\n",
    "sentence_with_entities_list = []\n",
    "subject_entity_list = []\n",
    "object_entity_list = []\n",
    "relation_list = []\n",
    "\n",
    "# tagtog 데이터를 CSV 형태로 변경\n",
    "for context_name, relation_folder, contexts_folder in zip(context_name_list, relation_folder_paths, contexts_folders_paths):\n",
    "    # relation files와 context files 리스트 출력\n",
    "    file_ids = [file_name.split(\".ann.\")[0] for file_name in os.listdir(relation_folder)]\n",
    "    file_nums = [ids.split(\"-\")[1] for ids in file_ids]\n",
    "    relation_files = [relation_folder + \"/\"+ file_id + \".ann.json\" for file_id in file_ids]\n",
    "    context_files = [contexts_folder + \"/\"+ file_id + \".plain.html\" for file_id in file_ids]\n",
    "    \n",
    "    \n",
    "    \n",
    "    #json으로 된 relation data와 html로 된 context 데이터 읽기\n",
    "    for relation_file, context_file, file_num in zip(relation_files,context_files, file_nums):\n",
    "        \n",
    "        #subject, object 정보 추출\n",
    "        with open(relation_file, \"r\") as f:\n",
    "            relation_json = json.load(f)\n",
    "        try:\n",
    "            tmp_subject, tmp_object = get_needed_relation_data(relation_json) #subject, object\n",
    "            tmp_label = get_label(relation_json)\n",
    "        except:\n",
    "            continue\n",
    "        \n",
    "        #sentence, sentence with entities 정보 추출\n",
    "        with open(context_file, \"r\") as f:\n",
    "            context_json = f.read()\n",
    "        tmp_sentence = get_context_from_html(context_json)\n",
    "        tmp_sentence_w_entities = get_sentence_with_entites(tmp_subject,tmp_object,tmp_sentence)\n",
    "        \n",
    "        #각 list에 데이터 저장\n",
    "        id_list.append(f\"{context_name}_{file_num}\")\n",
    "        sentence_list.append(tmp_sentence)\n",
    "        sentence_with_entities_list.append(tmp_sentence_w_entities)\n",
    "        subject_entity_list.append(tmp_subject)\n",
    "        object_entity_list.append(tmp_object)\n",
    "        relation_list.append(tmp_label.lower())\n",
    "    "
   ]
  },
  {
   "cell_type": "code",
   "execution_count": 11,
   "metadata": {},
   "outputs": [
    {
     "data": {
      "text/plain": [
       "452"
      ]
     },
     "execution_count": 11,
     "metadata": {},
     "output_type": "execute_result"
    }
   ],
   "source": [
    "len(id_list)"
   ]
  },
  {
   "cell_type": "code",
   "execution_count": 15,
   "metadata": {},
   "outputs": [],
   "source": [
    "for i in range(len(relation_list)):\n",
    "    if \"관계없음\" in relation_list[i] or \"관계_없음\" in relation_list[i]:\n",
    "        relation_list[i] = \"관계없음\""
   ]
  },
  {
   "cell_type": "code",
   "execution_count": 16,
   "metadata": {},
   "outputs": [],
   "source": [
    "import pandas as pd\n",
    "from sklearn.model_selection import train_test_split\n",
    "\n",
    "data_dict = {\n",
    "    \"id\" : range(len(id_list)), \n",
    "    \"sentence\" : sentence_list, \n",
    "    \"subject_entity\" : subject_entity_list, \n",
    "    \"object_entity\" : object_entity_list, \n",
    "    \"label\" : relation_list, \n",
    "    \"source\" : \"wikipedia\"\n",
    "}\n",
    "\n",
    "\n",
    "data_df = pd.DataFrame(data_dict, columns=data_dict.keys())"
   ]
  },
  {
   "cell_type": "code",
   "execution_count": 17,
   "metadata": {},
   "outputs": [
    {
     "data": {
      "text/html": [
       "<div>\n",
       "<style scoped>\n",
       "    .dataframe tbody tr th:only-of-type {\n",
       "        vertical-align: middle;\n",
       "    }\n",
       "\n",
       "    .dataframe tbody tr th {\n",
       "        vertical-align: top;\n",
       "    }\n",
       "\n",
       "    .dataframe thead th {\n",
       "        text-align: right;\n",
       "    }\n",
       "</style>\n",
       "<table border=\"1\" class=\"dataframe\">\n",
       "  <thead>\n",
       "    <tr style=\"text-align: right;\">\n",
       "      <th></th>\n",
       "      <th>id</th>\n",
       "      <th>sentence</th>\n",
       "      <th>subject_entity</th>\n",
       "      <th>object_entity</th>\n",
       "      <th>label</th>\n",
       "      <th>source</th>\n",
       "    </tr>\n",
       "  </thead>\n",
       "  <tbody>\n",
       "    <tr>\n",
       "      <th>0</th>\n",
       "      <td>0</td>\n",
       "      <td>그 누구도 다른 사람의 과거에 관심이 없기 때문에 법의 심판, 빚, 박해를 피해 도...</td>\n",
       "      <td>{'start': 9, 'text': '사람', 'type': 'per'}</td>\n",
       "      <td>{'start': 50, 'text': '사람', 'type': 'per'}</td>\n",
       "      <td>관계없음</td>\n",
       "      <td>wikipedia</td>\n",
       "    </tr>\n",
       "    <tr>\n",
       "      <th>1</th>\n",
       "      <td>1</td>\n",
       "      <td>소나는 아군의 상처를 어루만지기 위해서 뿐 아니라 방심하고 있는 적을 공격하기 위해...</td>\n",
       "      <td>{'start': 4, 'text': '아군', 'type': 'org'}</td>\n",
       "      <td>{'start': 0, 'text': '소나', 'type': 'per'}</td>\n",
       "      <td>org:구성원</td>\n",
       "      <td>wikipedia</td>\n",
       "    </tr>\n",
       "    <tr>\n",
       "      <th>2</th>\n",
       "      <td>2</td>\n",
       "      <td>오래 전에 시각을 잃었으나, 고향 땅의 신성한 균형을 해치려 드는 자를 막아내는 데...</td>\n",
       "      <td>{'start': 16, 'text': '고향', 'type': 'org'}</td>\n",
       "      <td>{'start': 37, 'text': '자', 'type': 'per'}</td>\n",
       "      <td>관계없음</td>\n",
       "      <td>wikipedia</td>\n",
       "    </tr>\n",
       "    <tr>\n",
       "      <th>3</th>\n",
       "      <td>3</td>\n",
       "      <td>또한 보수를 받고 일을 하고 무법의 황무지로 돌아가는 용병들도 있다.</td>\n",
       "      <td>{'start': 16, 'text': '무법의 황무지', 'type': 'org'}</td>\n",
       "      <td>{'start': 30, 'text': '용병', 'type': 'org'}</td>\n",
       "      <td>org:구성원</td>\n",
       "      <td>wikipedia</td>\n",
       "    </tr>\n",
       "    <tr>\n",
       "      <th>4</th>\n",
       "      <td>4</td>\n",
       "      <td>푸른 불꽃 제도에 위치한 빌지워터는 다른 항구 도시와는 다르다.</td>\n",
       "      <td>{'start': 0, 'text': '푸른 불꽃 제도', 'type': 'org'}</td>\n",
       "      <td>{'start': 14, 'text': '빌지워터', 'type': 'org'}</td>\n",
       "      <td>org:구성원</td>\n",
       "      <td>wikipedia</td>\n",
       "    </tr>\n",
       "    <tr>\n",
       "      <th>...</th>\n",
       "      <td>...</td>\n",
       "      <td>...</td>\n",
       "      <td>...</td>\n",
       "      <td>...</td>\n",
       "      <td>...</td>\n",
       "      <td>...</td>\n",
       "    </tr>\n",
       "    <tr>\n",
       "      <th>447</th>\n",
       "      <td>447</td>\n",
       "      <td>이제 올라프는 겨울 발톱 부족의 포악한 집행자가 되어, 대규모 전쟁에서 전사할 수 ...</td>\n",
       "      <td>{'start': 3, 'text': '올라프', 'type': 'per'}</td>\n",
       "      <td>{'start': 18, 'text': '포악한 집행자', 'type': 'per'}</td>\n",
       "      <td>per:직업_직함</td>\n",
       "      <td>wikipedia</td>\n",
       "    </tr>\n",
       "    <tr>\n",
       "      <th>448</th>\n",
       "      <td>448</td>\n",
       "      <td>다만 저그라인은 여전히 미흡한 점이 많이 지적됐다.(이날도 저그 라인은 승리를 하지...</td>\n",
       "      <td>{'start': 40, 'text': '승리', 'type': 'com'}</td>\n",
       "      <td>{'start': 33, 'text': '저그 라인', 'type': 'org'}</td>\n",
       "      <td>관계없음</td>\n",
       "      <td>wikipedia</td>\n",
       "    </tr>\n",
       "    <tr>\n",
       "      <th>449</th>\n",
       "      <td>449</td>\n",
       "      <td>발로란의 수많은 필멸자를 자신의 씨앗에서 태어난 후손의 먹잇감 정도로 여기므로, 치...</td>\n",
       "      <td>{'start': 0, 'text': '발로란', 'type': 'org'}</td>\n",
       "      <td>{'start': 9, 'text': '필멸자', 'type': 'per'}</td>\n",
       "      <td>org:구성원</td>\n",
       "      <td>wikipedia</td>\n",
       "    </tr>\n",
       "    <tr>\n",
       "      <th>450</th>\n",
       "      <td>450</td>\n",
       "      <td>T1은 대한민국의 종합 프로게임단으로 리그 오브 레전드, 배틀그라운드, 포트나이트,...</td>\n",
       "      <td>{'start': 4, 'text': '대한민국의 종합 프로게임단', 'type':...</td>\n",
       "      <td>{'start': 0, 'text': 'T1', 'type': 'org'}</td>\n",
       "      <td>org:구성원</td>\n",
       "      <td>wikipedia</td>\n",
       "    </tr>\n",
       "    <tr>\n",
       "      <th>451</th>\n",
       "      <td>451</td>\n",
       "      <td>그녀는 확고한 믿음과 잔혹함에 가까운 능력에 힘입어 상급 군인으로 진급하고 전설의 ...</td>\n",
       "      <td>{'start': 0, 'text': '그녀', 'type': 'per'}</td>\n",
       "      <td>{'start': 29, 'text': '상급 군인', 'type': 'per'}</td>\n",
       "      <td>per:직업_직함</td>\n",
       "      <td>wikipedia</td>\n",
       "    </tr>\n",
       "  </tbody>\n",
       "</table>\n",
       "<p>452 rows × 6 columns</p>\n",
       "</div>"
      ],
      "text/plain": [
       "      id                                           sentence  \\\n",
       "0      0  그 누구도 다른 사람의 과거에 관심이 없기 때문에 법의 심판, 빚, 박해를 피해 도...   \n",
       "1      1  소나는 아군의 상처를 어루만지기 위해서 뿐 아니라 방심하고 있는 적을 공격하기 위해...   \n",
       "2      2  오래 전에 시각을 잃었으나, 고향 땅의 신성한 균형을 해치려 드는 자를 막아내는 데...   \n",
       "3      3             또한 보수를 받고 일을 하고 무법의 황무지로 돌아가는 용병들도 있다.   \n",
       "4      4                푸른 불꽃 제도에 위치한 빌지워터는 다른 항구 도시와는 다르다.   \n",
       "..   ...                                                ...   \n",
       "447  447  이제 올라프는 겨울 발톱 부족의 포악한 집행자가 되어, 대규모 전쟁에서 전사할 수 ...   \n",
       "448  448  다만 저그라인은 여전히 미흡한 점이 많이 지적됐다.(이날도 저그 라인은 승리를 하지...   \n",
       "449  449  발로란의 수많은 필멸자를 자신의 씨앗에서 태어난 후손의 먹잇감 정도로 여기므로, 치...   \n",
       "450  450  T1은 대한민국의 종합 프로게임단으로 리그 오브 레전드, 배틀그라운드, 포트나이트,...   \n",
       "451  451  그녀는 확고한 믿음과 잔혹함에 가까운 능력에 힘입어 상급 군인으로 진급하고 전설의 ...   \n",
       "\n",
       "                                        subject_entity  \\\n",
       "0            {'start': 9, 'text': '사람', 'type': 'per'}   \n",
       "1            {'start': 4, 'text': '아군', 'type': 'org'}   \n",
       "2           {'start': 16, 'text': '고향', 'type': 'org'}   \n",
       "3      {'start': 16, 'text': '무법의 황무지', 'type': 'org'}   \n",
       "4      {'start': 0, 'text': '푸른 불꽃 제도', 'type': 'org'}   \n",
       "..                                                 ...   \n",
       "447         {'start': 3, 'text': '올라프', 'type': 'per'}   \n",
       "448         {'start': 40, 'text': '승리', 'type': 'com'}   \n",
       "449         {'start': 0, 'text': '발로란', 'type': 'org'}   \n",
       "450  {'start': 4, 'text': '대한민국의 종합 프로게임단', 'type':...   \n",
       "451          {'start': 0, 'text': '그녀', 'type': 'per'}   \n",
       "\n",
       "                                       object_entity      label     source  \n",
       "0         {'start': 50, 'text': '사람', 'type': 'per'}       관계없음  wikipedia  \n",
       "1          {'start': 0, 'text': '소나', 'type': 'per'}    org:구성원  wikipedia  \n",
       "2          {'start': 37, 'text': '자', 'type': 'per'}       관계없음  wikipedia  \n",
       "3         {'start': 30, 'text': '용병', 'type': 'org'}    org:구성원  wikipedia  \n",
       "4       {'start': 14, 'text': '빌지워터', 'type': 'org'}    org:구성원  wikipedia  \n",
       "..                                               ...        ...        ...  \n",
       "447  {'start': 18, 'text': '포악한 집행자', 'type': 'per'}  per:직업_직함  wikipedia  \n",
       "448    {'start': 33, 'text': '저그 라인', 'type': 'org'}       관계없음  wikipedia  \n",
       "449       {'start': 9, 'text': '필멸자', 'type': 'per'}    org:구성원  wikipedia  \n",
       "450        {'start': 0, 'text': 'T1', 'type': 'org'}    org:구성원  wikipedia  \n",
       "451    {'start': 29, 'text': '상급 군인', 'type': 'per'}  per:직업_직함  wikipedia  \n",
       "\n",
       "[452 rows x 6 columns]"
      ]
     },
     "execution_count": 17,
     "metadata": {},
     "output_type": "execute_result"
    }
   ],
   "source": [
    "data_df"
   ]
  },
  {
   "cell_type": "code",
   "execution_count": 18,
   "metadata": {},
   "outputs": [
    {
     "data": {
      "text/html": [
       "<div>\n",
       "<style scoped>\n",
       "    .dataframe tbody tr th:only-of-type {\n",
       "        vertical-align: middle;\n",
       "    }\n",
       "\n",
       "    .dataframe tbody tr th {\n",
       "        vertical-align: top;\n",
       "    }\n",
       "\n",
       "    .dataframe thead th {\n",
       "        text-align: right;\n",
       "    }\n",
       "</style>\n",
       "<table border=\"1\" class=\"dataframe\">\n",
       "  <thead>\n",
       "    <tr style=\"text-align: right;\">\n",
       "      <th></th>\n",
       "      <th>id</th>\n",
       "      <th>sentence</th>\n",
       "      <th>subject_entity</th>\n",
       "      <th>object_entity</th>\n",
       "      <th>source</th>\n",
       "    </tr>\n",
       "    <tr>\n",
       "      <th>label</th>\n",
       "      <th></th>\n",
       "      <th></th>\n",
       "      <th></th>\n",
       "      <th></th>\n",
       "      <th></th>\n",
       "    </tr>\n",
       "  </thead>\n",
       "  <tbody>\n",
       "    <tr>\n",
       "      <th>com:참가</th>\n",
       "      <td>12</td>\n",
       "      <td>12</td>\n",
       "      <td>12</td>\n",
       "      <td>12</td>\n",
       "      <td>12</td>\n",
       "    </tr>\n",
       "    <tr>\n",
       "      <th>org:구성원</th>\n",
       "      <td>106</td>\n",
       "      <td>106</td>\n",
       "      <td>106</td>\n",
       "      <td>106</td>\n",
       "      <td>106</td>\n",
       "    </tr>\n",
       "    <tr>\n",
       "      <th>org:발생</th>\n",
       "      <td>29</td>\n",
       "      <td>29</td>\n",
       "      <td>29</td>\n",
       "      <td>29</td>\n",
       "      <td>29</td>\n",
       "    </tr>\n",
       "    <tr>\n",
       "      <th>org:별칭</th>\n",
       "      <td>20</td>\n",
       "      <td>20</td>\n",
       "      <td>20</td>\n",
       "      <td>20</td>\n",
       "      <td>20</td>\n",
       "    </tr>\n",
       "    <tr>\n",
       "      <th>per:별칭</th>\n",
       "      <td>57</td>\n",
       "      <td>57</td>\n",
       "      <td>57</td>\n",
       "      <td>57</td>\n",
       "      <td>57</td>\n",
       "    </tr>\n",
       "    <tr>\n",
       "      <th>per:직업_직함</th>\n",
       "      <td>73</td>\n",
       "      <td>73</td>\n",
       "      <td>73</td>\n",
       "      <td>73</td>\n",
       "      <td>73</td>\n",
       "    </tr>\n",
       "    <tr>\n",
       "      <th>rec:달성</th>\n",
       "      <td>6</td>\n",
       "      <td>6</td>\n",
       "      <td>6</td>\n",
       "      <td>6</td>\n",
       "      <td>6</td>\n",
       "    </tr>\n",
       "    <tr>\n",
       "      <th>관계없음</th>\n",
       "      <td>149</td>\n",
       "      <td>149</td>\n",
       "      <td>149</td>\n",
       "      <td>149</td>\n",
       "      <td>149</td>\n",
       "    </tr>\n",
       "  </tbody>\n",
       "</table>\n",
       "</div>"
      ],
      "text/plain": [
       "            id  sentence  subject_entity  object_entity  source\n",
       "label                                                          \n",
       "com:참가      12        12              12             12      12\n",
       "org:구성원    106       106             106            106     106\n",
       "org:발생      29        29              29             29      29\n",
       "org:별칭      20        20              20             20      20\n",
       "per:별칭      57        57              57             57      57\n",
       "per:직업_직함   73        73              73             73      73\n",
       "rec:달성       6         6               6              6       6\n",
       "관계없음       149       149             149            149     149"
      ]
     },
     "execution_count": 18,
     "metadata": {},
     "output_type": "execute_result"
    }
   ],
   "source": [
    "data_df.groupby(\"label\").count()"
   ]
  },
  {
   "cell_type": "code",
   "execution_count": 19,
   "metadata": {},
   "outputs": [],
   "source": [
    "train, test = train_test_split(data_df, test_size=0.4, shuffle=True)\n",
    "test, val = train_test_split(test, test_size=0.5, shuffle=True)"
   ]
  },
  {
   "cell_type": "code",
   "execution_count": 20,
   "metadata": {},
   "outputs": [
    {
     "data": {
      "text/plain": [
       "(271, 90, 91, 452)"
      ]
     },
     "execution_count": 20,
     "metadata": {},
     "output_type": "execute_result"
    }
   ],
   "source": [
    "len(train), len(test), len(val), len(data_df)"
   ]
  },
  {
   "cell_type": "code",
   "execution_count": 78,
   "metadata": {},
   "outputs": [],
   "source": [
    "# for i in range(len(test)):\n",
    "#     test.iloc[i][\"label\"] = dict_label_to_num[test.iloc[i][\"label\"]]"
   ]
  },
  {
   "cell_type": "code",
   "execution_count": 22,
   "metadata": {},
   "outputs": [],
   "source": [
    "train.to_csv(\"../dataset/train/train.csv\", index=False)\n",
    "val.to_csv(\"../dataset/train/dev.csv\", index=False)\n",
    "test.to_csv(\"../dataset/test/test_data.csv\", index=False)\n",
    "#data_df.to_csv(\"../dataset/test/test_data.csv\", index=False)"
   ]
  },
  {
   "cell_type": "markdown",
   "metadata": {},
   "source": [
    "## save pickle"
   ]
  },
  {
   "cell_type": "code",
   "execution_count": 23,
   "metadata": {},
   "outputs": [
    {
     "data": {
      "text/plain": [
       "{'com:참가',\n",
       " 'org:구성원',\n",
       " 'org:발생',\n",
       " 'org:별칭',\n",
       " 'per:별칭',\n",
       " 'per:직업_직함',\n",
       " 'rec:달성',\n",
       " '관계없음'}"
      ]
     },
     "execution_count": 23,
     "metadata": {},
     "output_type": "execute_result"
    }
   ],
   "source": [
    "set(data_df[\"label\"].tolist())"
   ]
  },
  {
   "cell_type": "code",
   "execution_count": 24,
   "metadata": {},
   "outputs": [],
   "source": [
    "dict_label_to_num = {\n",
    "    '관계없음' : 0,\n",
    "    'com:참가' : 1,\n",
    "    'org:구성원' : 2,\n",
    "    'org:발생' : 3,\n",
    "    'org:별칭' : 4,\n",
    "    'per:별칭' : 5,\n",
    "    'per:직업_직함' : 6,\n",
    "    'rec:달성' : 7                  \n",
    "}\n",
    "dict_num_to_label = {num:label for label, num in dict_label_to_num.items()}"
   ]
  },
  {
   "cell_type": "code",
   "execution_count": 25,
   "metadata": {},
   "outputs": [
    {
     "data": {
      "text/plain": [
       "{'관계없음': 0,\n",
       " 'com:참가': 1,\n",
       " 'org:구성원': 2,\n",
       " 'org:발생': 3,\n",
       " 'org:별칭': 4,\n",
       " 'per:별칭': 5,\n",
       " 'per:직업_직함': 6,\n",
       " 'rec:달성': 7}"
      ]
     },
     "execution_count": 25,
     "metadata": {},
     "output_type": "execute_result"
    }
   ],
   "source": [
    "dict_label_to_num"
   ]
  },
  {
   "cell_type": "code",
   "execution_count": 26,
   "metadata": {},
   "outputs": [
    {
     "data": {
      "text/plain": [
       "{0: '관계없음',\n",
       " 1: 'com:참가',\n",
       " 2: 'org:구성원',\n",
       " 3: 'org:발생',\n",
       " 4: 'org:별칭',\n",
       " 5: 'per:별칭',\n",
       " 6: 'per:직업_직함',\n",
       " 7: 'rec:달성'}"
      ]
     },
     "execution_count": 26,
     "metadata": {},
     "output_type": "execute_result"
    }
   ],
   "source": [
    "dict_num_to_label"
   ]
  },
  {
   "cell_type": "code",
   "execution_count": 27,
   "metadata": {},
   "outputs": [
    {
     "data": {
      "text/plain": [
       "dict_keys(['관계없음', 'com:참가', 'org:구성원', 'org:발생', 'org:별칭', 'per:별칭', 'per:직업_직함', 'rec:달성'])"
      ]
     },
     "execution_count": 27,
     "metadata": {},
     "output_type": "execute_result"
    }
   ],
   "source": [
    "dict_label_to_num.keys()"
   ]
  },
  {
   "cell_type": "code",
   "execution_count": 28,
   "metadata": {},
   "outputs": [],
   "source": [
    "import pickle\n",
    "\n",
    "# save\n",
    "with open('../model/dict_label_to_num.pkl', 'wb') as f:\n",
    "    pickle.dump(dict_label_to_num, f, pickle.HIGHEST_PROTOCOL)\n",
    "with open('../model/dict_num_to_label.pkl', 'wb') as f:\n",
    "    pickle.dump(dict_num_to_label, f, pickle.HIGHEST_PROTOCOL)"
   ]
  },
  {
   "cell_type": "code",
   "execution_count": 29,
   "metadata": {},
   "outputs": [],
   "source": [
    "import pickle\n",
    "\n",
    "# save\n",
    "with open('dict_label_to_num.pkl', 'wb') as f:\n",
    "    pickle.dump(dict_label_to_num, f, protocol=2)\n",
    "with open('dict_num_to_label.pkl', 'wb') as f:\n",
    "    pickle.dump(dict_num_to_label, f, protocol=2)"
   ]
  },
  {
   "cell_type": "code",
   "execution_count": null,
   "metadata": {},
   "outputs": [],
   "source": []
  }
 ],
 "metadata": {
  "kernelspec": {
   "display_name": "Python 3",
   "language": "python",
   "name": "python3"
  },
  "language_info": {
   "codemirror_mode": {
    "name": "ipython",
    "version": 3
   },
   "file_extension": ".py",
   "mimetype": "text/x-python",
   "name": "python",
   "nbconvert_exporter": "python",
   "pygments_lexer": "ipython3",
   "version": "3.8.5"
  }
 },
 "nbformat": 4,
 "nbformat_minor": 5
}
