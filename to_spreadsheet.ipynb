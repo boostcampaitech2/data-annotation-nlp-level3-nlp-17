{
 "cells": [
  {
   "cell_type": "code",
   "execution_count": 4,
   "id": "d54aae4e-8950-47d0-b352-dffac3065711",
   "metadata": {},
   "outputs": [
    {
     "ename": "FileNotFoundError",
     "evalue": "[Errno 2] No such file or directory: './data/pilot_annotated_data/tagtog_League_of_Legend_Relation_Extraction.zip'",
     "output_type": "error",
     "traceback": [
      "\u001b[0;31m---------------------------------------------------------------------------\u001b[0m",
      "\u001b[0;31mFileNotFoundError\u001b[0m                         Traceback (most recent call last)",
      "\u001b[0;32m/tmp/ipykernel_1549/524882404.py\u001b[0m in \u001b[0;36m<module>\u001b[0;34m\u001b[0m\n\u001b[1;32m      5\u001b[0m \u001b[0mfolder_path\u001b[0m \u001b[0;34m=\u001b[0m \u001b[0;34m\"./data/pilot_annotated_data/\"\u001b[0m\u001b[0;34m\u001b[0m\u001b[0;34m\u001b[0m\u001b[0m\n\u001b[1;32m      6\u001b[0m \u001b[0;34m\u001b[0m\u001b[0m\n\u001b[0;32m----> 7\u001b[0;31m \u001b[0mzip_\u001b[0m \u001b[0;34m=\u001b[0m \u001b[0mzipfile\u001b[0m\u001b[0;34m.\u001b[0m\u001b[0mZipFile\u001b[0m\u001b[0;34m(\u001b[0m\u001b[0mos\u001b[0m\u001b[0;34m.\u001b[0m\u001b[0mpath\u001b[0m\u001b[0;34m.\u001b[0m\u001b[0mjoin\u001b[0m\u001b[0;34m(\u001b[0m\u001b[0mfolder_path\u001b[0m\u001b[0;34m,\u001b[0m \u001b[0;34m\"tagtog_League_of_Legend_Relation_Extraction.zip\"\u001b[0m\u001b[0;34m)\u001b[0m\u001b[0;34m)\u001b[0m\u001b[0;34m\u001b[0m\u001b[0;34m\u001b[0m\u001b[0m\n\u001b[0m\u001b[1;32m      8\u001b[0m \u001b[0;32mif\u001b[0m \u001b[0mos\u001b[0m\u001b[0;34m.\u001b[0m\u001b[0mpath\u001b[0m\u001b[0;34m.\u001b[0m\u001b[0mexists\u001b[0m\u001b[0;34m(\u001b[0m\u001b[0mfolder_path\u001b[0m\u001b[0;34m)\u001b[0m\u001b[0;34m:\u001b[0m\u001b[0;34m\u001b[0m\u001b[0;34m\u001b[0m\u001b[0m\n\u001b[1;32m      9\u001b[0m     \u001b[0mshutil\u001b[0m\u001b[0;34m.\u001b[0m\u001b[0mrmtree\u001b[0m\u001b[0;34m(\u001b[0m\u001b[0mfolder_path\u001b[0m\u001b[0;34m)\u001b[0m\u001b[0;34m\u001b[0m\u001b[0;34m\u001b[0m\u001b[0m\n",
      "\u001b[0;32m/opt/conda/lib/python3.8/zipfile.py\u001b[0m in \u001b[0;36m__init__\u001b[0;34m(self, file, mode, compression, allowZip64, compresslevel, strict_timestamps)\u001b[0m\n\u001b[1;32m   1249\u001b[0m             \u001b[0;32mwhile\u001b[0m \u001b[0;32mTrue\u001b[0m\u001b[0;34m:\u001b[0m\u001b[0;34m\u001b[0m\u001b[0;34m\u001b[0m\u001b[0m\n\u001b[1;32m   1250\u001b[0m                 \u001b[0;32mtry\u001b[0m\u001b[0;34m:\u001b[0m\u001b[0;34m\u001b[0m\u001b[0;34m\u001b[0m\u001b[0m\n\u001b[0;32m-> 1251\u001b[0;31m                     \u001b[0mself\u001b[0m\u001b[0;34m.\u001b[0m\u001b[0mfp\u001b[0m \u001b[0;34m=\u001b[0m \u001b[0mio\u001b[0m\u001b[0;34m.\u001b[0m\u001b[0mopen\u001b[0m\u001b[0;34m(\u001b[0m\u001b[0mfile\u001b[0m\u001b[0;34m,\u001b[0m \u001b[0mfilemode\u001b[0m\u001b[0;34m)\u001b[0m\u001b[0;34m\u001b[0m\u001b[0;34m\u001b[0m\u001b[0m\n\u001b[0m\u001b[1;32m   1252\u001b[0m                 \u001b[0;32mexcept\u001b[0m \u001b[0mOSError\u001b[0m\u001b[0;34m:\u001b[0m\u001b[0;34m\u001b[0m\u001b[0;34m\u001b[0m\u001b[0m\n\u001b[1;32m   1253\u001b[0m                     \u001b[0;32mif\u001b[0m \u001b[0mfilemode\u001b[0m \u001b[0;32min\u001b[0m \u001b[0mmodeDict\u001b[0m\u001b[0;34m:\u001b[0m\u001b[0;34m\u001b[0m\u001b[0;34m\u001b[0m\u001b[0m\n",
      "\u001b[0;31mFileNotFoundError\u001b[0m: [Errno 2] No such file or directory: './data/pilot_annotated_data/tagtog_League_of_Legend_Relation_Extraction.zip'"
     ]
    }
   ],
   "source": [
    "#압축파일 풀기\n",
    "import zipfile\n",
    "import shutil\n",
    "import os\n",
    "folder_path = \"./data/pilot_annotated_data/\"\n",
    "\n",
    "zip_ = zipfile.ZipFile(os.path.join(folder_path, \"tagtog_League_of_Legend_Relation_Extraction.zip\"))\n",
    "if os.path.exists(folder_path):\n",
    "    shutil.rmtree(folder_path)\n",
    "zip_.extractall(folder_path)"
   ]
  },
  {
   "cell_type": "code",
   "execution_count": 5,
   "id": "80c3b178-871d-47fd-af63-b7f6b50ca003",
   "metadata": {},
   "outputs": [],
   "source": [
    "import json\n",
    "import glob\n",
    "import re\n",
    "import os\n",
    "\n",
    "pilot_or_main = 'pilot'\n",
    "#폴더 경로\n",
    "folder_name = os.path.join(folder_path, 'League_of_Legend_Relation_Extraction/')\n",
    "\n",
    "#context list\n",
    "context_name_list = os.listdir(folder_name + \"ann.json/master/pool/\"+pilot_or_main)\n",
    "\n",
    "#relation 폴더 경로\n",
    "relation_folder_paths = [folder_name + \"ann.json/master/pool/\"+pilot_or_main + \"/\"+c for c in os.listdir(folder_name + \"ann.json/master/pool/\"+pilot_or_main)]\n",
    "\n",
    "#context 폴더 경로\n",
    "# contexts_folders_paths = glob.glob(folder_name + \"plain.html/pool/*\")\n",
    "contexts_folders_paths = [folder_name + \"plain.html/pool/\"+pilot_or_main + \"/\"+c for c in context_name_list]\n",
    "\n",
    "\n",
    "#anntation_lenged 정보\n",
    "annotation_legend = folder_name + \"annotations-legend.json\"\n",
    "with open(annotation_legend,\"r\") as f:\n",
    "    annotation_legend = json.load(f)\n",
    "    "
   ]
  },
  {
   "cell_type": "code",
   "execution_count": 6,
   "id": "4315aa73-9aff-4631-a75a-8f65f88cbcfa",
   "metadata": {},
   "outputs": [
    {
     "data": {
      "text/plain": [
       "['T2258', 'T2077', 'T2046', 'T2196']"
      ]
     },
     "execution_count": 6,
     "metadata": {},
     "output_type": "execute_result"
    }
   ],
   "source": [
    "context_name_list"
   ]
  },
  {
   "cell_type": "code",
   "execution_count": 7,
   "id": "c7e9a1d5-6346-435e-b031-5c1948bbd07a",
   "metadata": {},
   "outputs": [
    {
     "data": {
      "text/plain": [
       "['./data/pilot_annotated_data/League_of_Legend_Relation_Extraction/ann.json/master/pool/pilot/T2258',\n",
       " './data/pilot_annotated_data/League_of_Legend_Relation_Extraction/ann.json/master/pool/pilot/T2077',\n",
       " './data/pilot_annotated_data/League_of_Legend_Relation_Extraction/ann.json/master/pool/pilot/T2046',\n",
       " './data/pilot_annotated_data/League_of_Legend_Relation_Extraction/ann.json/master/pool/pilot/T2196']"
      ]
     },
     "execution_count": 7,
     "metadata": {},
     "output_type": "execute_result"
    }
   ],
   "source": [
    "relation_folder_paths"
   ]
  },
  {
   "cell_type": "code",
   "execution_count": 8,
   "id": "3b4c351b-6a4b-4b40-815d-1071d994c107",
   "metadata": {},
   "outputs": [
    {
     "data": {
      "text/plain": [
       "['./data/pilot_annotated_data/League_of_Legend_Relation_Extraction/plain.html/pool/pilot/T2258',\n",
       " './data/pilot_annotated_data/League_of_Legend_Relation_Extraction/plain.html/pool/pilot/T2077',\n",
       " './data/pilot_annotated_data/League_of_Legend_Relation_Extraction/plain.html/pool/pilot/T2046',\n",
       " './data/pilot_annotated_data/League_of_Legend_Relation_Extraction/plain.html/pool/pilot/T2196']"
      ]
     },
     "execution_count": 8,
     "metadata": {},
     "output_type": "execute_result"
    }
   ],
   "source": [
    "contexts_folders_paths"
   ]
  },
  {
   "cell_type": "code",
   "execution_count": 9,
   "id": "624fa8f1-0c6f-4918-b3d2-8af385084dce",
   "metadata": {},
   "outputs": [],
   "source": [
    "#relation dictionary 파일로부터 subject와 object의 entity 정보를 추출해주는 함수\n",
    "def get_needed_relation_data(tmp_relation):\n",
    "    subject_token = re.findall(\"\\(+(.+)+\\)\",annotation_legend[tmp_relation[\"relations\"][0]['classId']])[0].split(\"|\")[0]\n",
    "    if subject_token == tmp_relation['entities'][0]['classId']:\n",
    "        sub_entity, obj_entity = tmp_relation['entities']\n",
    "    else:\n",
    "        obj_entity, sub_entity  = tmp_relation['entities']\n",
    "    \n",
    "    # get preprocessed entities\n",
    "    def _get_entity(entity):\n",
    "        outputs = entity['offsets'][0]\n",
    "        outputs['type'] = annotation_legend[entity['classId']].split(\"-\")[1].lower()\n",
    "        return outputs\n",
    "    \n",
    "    output_subject = _get_entity(sub_entity)\n",
    "    output_object = _get_entity(obj_entity)\n",
    "    return output_subject, output_object"
   ]
  },
  {
   "cell_type": "code",
   "execution_count": 10,
   "id": "856230c0-04e3-4504-8f97-11e08d51951f",
   "metadata": {},
   "outputs": [],
   "source": [
    "#relation dictionary 파일로부터 title(relation)을 추출해주는 함수\n",
    "def get_label(relation_json):\n",
    "    label_tag = relation_json['relations'][0]['classId'] #r_6\n",
    "    try:\n",
    "        _,sub_type, label = annotation_legend[re.findall(\"\\(+(.+)+\\|\",annotation_legend[label_tag])[0]].split(\"-\")\n",
    "        return f\"{sub_type}:{label}\"\n",
    "    except:\n",
    "        _,sub_type, = annotation_legend[re.findall(\"\\(+(.+)+\\|\",annotation_legend[label_tag])[0]].split(\"-\")\n",
    "        return f\"{sub_type}:no_relation\""
   ]
  },
  {
   "cell_type": "code",
   "execution_count": 11,
   "id": "72e0cc1d-0db6-4ba1-b668-67fdac103dbd",
   "metadata": {},
   "outputs": [],
   "source": [
    "#html 파일로부터 text만 추출해주는 함수\n",
    "def get_context_from_html(html_file):\n",
    "    html_file = re.sub(r\"\\n\",\"\", html_file)\n",
    "    return re.findall(\"(<pre.+>)(.+)(</pre>)\",html_file)[0][1]"
   ]
  },
  {
   "cell_type": "code",
   "execution_count": 12,
   "id": "340944b1-2629-46fa-a3bf-a889efc94955",
   "metadata": {},
   "outputs": [],
   "source": [
    "#entity 정보가 포함된 sentence를 생성해주는 함수\n",
    "def get_sentence_with_entites(subject_entity, object_entity, sentence):\n",
    "    if subject_entity['start'] < object_entity['start']:\n",
    "        entity1,entity2 = subject_entity, object_entity\n",
    "    else:\n",
    "        entity1,entity2 = object_entity, subject_entity\n",
    "    \n",
    "    #entity 시작 위치 및 길이 \n",
    "    ett1_stt, ett1_len = entity1['start'], len(entity1['text'])\n",
    "    ett2_stt, ett2_len = entity2['start'], len(entity2['text'])\n",
    "    \n",
    "    #문장 분리\n",
    "    bf, ett1, mid, ett2, af = sentence[:ett1_stt], \\\n",
    "                            sentence[ett1_stt:ett1_stt+ett1_len], \\\n",
    "                            sentence[ett1_stt+ett1_len:ett2_stt], \\\n",
    "                            sentence[ett2_stt:ett2_stt+ett2_len], \\\n",
    "                            sentence[ett2_stt+ett2_len:]\n",
    "\n",
    "    \n",
    "    if subject_entity['start'] < object_entity['start']:\n",
    "        ett1,ett2 = f\"<sbj:{ett1}>\", f\"<obj:{ett2}>\"\n",
    "    else:\n",
    "        ett1,ett2 = f\"<obj:{ett1}>\", f\"<sbj:{ett2}>\"\n",
    "    \n",
    "    return \"\".join([bf, ett1, mid, ett2, af])"
   ]
  },
  {
   "cell_type": "code",
   "execution_count": 13,
   "id": "b68388de-eb10-49b3-80a4-1a470436e978",
   "metadata": {},
   "outputs": [],
   "source": [
    "#dataframe column\n",
    "# id : context title(e.g : 카카오게임, 11번가 등)\n",
    "# sentence w/o entity\n",
    "# sentence w entity\n",
    "# subject_entity\n",
    "# object_entity\n",
    "# class\n",
    "\n",
    "id_list = []\n",
    "sentence_list = []\n",
    "sentence_with_entities_list = []\n",
    "subject_entity_list = []\n",
    "object_entity_list = []\n",
    "relation_list = []\n",
    "\n",
    "\n",
    "# tagtog 데이터를 CSV 형태로 변경\n",
    "for context_name, relation_folder, contexts_folder in zip(context_name_list, relation_folder_paths, contexts_folders_paths):\n",
    "    # relation files와 context files 리스트 출력\n",
    "    file_ids = [file_name.split(\".ann.\")[0] for file_name in os.listdir(relation_folder)]\n",
    "    file_nums = [ids.split(\"-\")[1] for ids in file_ids]\n",
    "    relation_files = [relation_folder + \"/\"+ file_id + \".ann.json\" for file_id in file_ids]\n",
    "    context_files = [contexts_folder + \"/\"+ file_id + \".plain.html\" for file_id in file_ids]\n",
    "    \n",
    "    #json으로 된 relation data와 html로 된 context 데이터 읽기\n",
    "    for relation_file, context_file, file_num in zip(relation_files,context_files, file_nums):\n",
    "        \n",
    "        #subject, object 정보 추출\n",
    "        with open(relation_file, \"r\") as f:\n",
    "            relation_json = json.load(f)\n",
    "        try:\n",
    "            tmp_subject, tmp_object = get_needed_relation_data(relation_json) #subject, object\n",
    "            tmp_label = get_label(relation_json)\n",
    "        except:\n",
    "            continue\n",
    "        \n",
    "        #sentence, sentence with entities 정보 추출\n",
    "        with open(context_file, \"r\") as f:\n",
    "            context_json = f.read()\n",
    "        tmp_sentence = get_context_from_html(context_json)\n",
    "        tmp_sentence_w_entities = get_sentence_with_entites(tmp_subject,tmp_object,tmp_sentence)\n",
    "        \n",
    "        #각 list에 데이터 저장\n",
    "        id_list.append(f\"{context_name}_{file_num}\")\n",
    "        sentence_list.append(tmp_sentence)\n",
    "        sentence_with_entities_list.append(tmp_sentence_w_entities)\n",
    "        subject_entity_list.append(tmp_subject)\n",
    "        object_entity_list.append(tmp_object)\n",
    "        relation_list.append(tmp_label.lower())"
   ]
  },
  {
   "cell_type": "code",
   "execution_count": 14,
   "id": "131c9ed8-eb8b-421c-be56-c489fabfda35",
   "metadata": {},
   "outputs": [
    {
     "name": "stdout",
     "output_type": "stream",
     "text": [
      "Requirement already satisfied: gspread in /opt/conda/lib/python3.8/site-packages (4.0.1)\n",
      "Requirement already satisfied: google-auth>=1.12.0 in /opt/conda/lib/python3.8/site-packages (from gspread) (2.3.3)\n",
      "Requirement already satisfied: google-auth-oauthlib>=0.4.1 in /opt/conda/lib/python3.8/site-packages (from gspread) (0.4.6)\n",
      "Requirement already satisfied: rsa<5,>=3.1.4 in /opt/conda/lib/python3.8/site-packages (from google-auth>=1.12.0->gspread) (4.7.2)\n",
      "Requirement already satisfied: six>=1.9.0 in /opt/conda/lib/python3.8/site-packages (from google-auth>=1.12.0->gspread) (1.16.0)\n",
      "Requirement already satisfied: pyasn1-modules>=0.2.1 in /opt/conda/lib/python3.8/site-packages (from google-auth>=1.12.0->gspread) (0.2.8)\n",
      "Requirement already satisfied: cachetools<5.0,>=2.0.0 in /opt/conda/lib/python3.8/site-packages (from google-auth>=1.12.0->gspread) (4.2.4)\n",
      "Requirement already satisfied: setuptools>=40.3.0 in /opt/conda/lib/python3.8/site-packages (from google-auth>=1.12.0->gspread) (58.0.4)\n",
      "Requirement already satisfied: requests-oauthlib>=0.7.0 in /opt/conda/lib/python3.8/site-packages (from google-auth-oauthlib>=0.4.1->gspread) (1.3.0)\n",
      "Requirement already satisfied: pyasn1<0.5.0,>=0.4.6 in /opt/conda/lib/python3.8/site-packages (from pyasn1-modules>=0.2.1->google-auth>=1.12.0->gspread) (0.4.8)\n",
      "Requirement already satisfied: requests>=2.0.0 in /opt/conda/lib/python3.8/site-packages (from requests-oauthlib>=0.7.0->google-auth-oauthlib>=0.4.1->gspread) (2.26.0)\n",
      "Requirement already satisfied: oauthlib>=3.0.0 in /opt/conda/lib/python3.8/site-packages (from requests-oauthlib>=0.7.0->google-auth-oauthlib>=0.4.1->gspread) (3.1.1)\n",
      "Requirement already satisfied: urllib3<1.27,>=1.21.1 in /opt/conda/lib/python3.8/site-packages (from requests>=2.0.0->requests-oauthlib>=0.7.0->google-auth-oauthlib>=0.4.1->gspread) (1.26.7)\n",
      "Requirement already satisfied: charset-normalizer~=2.0.0 in /opt/conda/lib/python3.8/site-packages (from requests>=2.0.0->requests-oauthlib>=0.7.0->google-auth-oauthlib>=0.4.1->gspread) (2.0.4)\n",
      "Requirement already satisfied: idna<4,>=2.5 in /opt/conda/lib/python3.8/site-packages (from requests>=2.0.0->requests-oauthlib>=0.7.0->google-auth-oauthlib>=0.4.1->gspread) (3.2)\n",
      "Requirement already satisfied: certifi>=2017.4.17 in /opt/conda/lib/python3.8/site-packages (from requests>=2.0.0->requests-oauthlib>=0.7.0->google-auth-oauthlib>=0.4.1->gspread) (2021.10.8)\n",
      "\u001b[33mWARNING: Running pip as the 'root' user can result in broken permissions and conflicting behaviour with the system package manager. It is recommended to use a virtual environment instead: https://pip.pypa.io/warnings/venv\u001b[0m\n",
      "Requirement already satisfied: oauth2client in /opt/conda/lib/python3.8/site-packages (4.1.3)\n",
      "Requirement already satisfied: rsa>=3.1.4 in /opt/conda/lib/python3.8/site-packages (from oauth2client) (4.7.2)\n",
      "Requirement already satisfied: httplib2>=0.9.1 in /opt/conda/lib/python3.8/site-packages (from oauth2client) (0.20.2)\n",
      "Requirement already satisfied: six>=1.6.1 in /opt/conda/lib/python3.8/site-packages (from oauth2client) (1.16.0)\n",
      "Requirement already satisfied: pyasn1>=0.1.7 in /opt/conda/lib/python3.8/site-packages (from oauth2client) (0.4.8)\n",
      "Requirement already satisfied: pyasn1-modules>=0.0.5 in /opt/conda/lib/python3.8/site-packages (from oauth2client) (0.2.8)\n",
      "Requirement already satisfied: pyparsing!=3.0.0,!=3.0.1,!=3.0.2,!=3.0.3,<4,>=2.4.2 in /opt/conda/lib/python3.8/site-packages (from httplib2>=0.9.1->oauth2client) (2.4.7)\n",
      "\u001b[33mWARNING: Running pip as the 'root' user can result in broken permissions and conflicting behaviour with the system package manager. It is recommended to use a virtual environment instead: https://pip.pypa.io/warnings/venv\u001b[0m\n"
     ]
    }
   ],
   "source": [
    "!pip install gspread\n",
    "!pip install --upgrade oauth2client"
   ]
  },
  {
   "cell_type": "code",
   "execution_count": 18,
   "id": "ab1fb8b1-607e-4775-bf72-5bff1562f7d6",
   "metadata": {},
   "outputs": [],
   "source": [
    "import gspread\n",
    "from oauth2client.service_account import ServiceAccountCredentials\n",
    "\n",
    "scope = ['https://spreadsheets.google.com/feeds',\n",
    "         'https://www.googleapis.com/auth/drive']\n",
    "\n",
    "#json key file 위치\n",
    "json_file_name = './fresh-iridium-332404-8dfc027c47de.json'\n",
    "\n",
    "# json key file을 이용하여 접속\n",
    "credentials = ServiceAccountCredentials.from_json_keyfile_name(json_file_name, scope)\n",
    "gc = gspread.authorize(credentials)\n",
    "\n",
    "#구글 스프레드 시트 주소\n",
    "spreadsheet_url = \"https://docs.google.com/spreadsheets/d/1J9BJVCgzKk6rE29lCdSn_EEZovLeCRTO6DUdIotn6pA/edit#gid=0\"\n",
    "\n",
    "# 스프레드시트 문서 가져오기\n",
    "doc = gc.open_by_url(spreadsheet_url)\n",
    "## gc.create(spreadsheet_name) # 스프레드시트 생성\n",
    "\n",
    "\n",
    "#시트 선택하기\n",
    "sheet_name = pilot_or_main+\"_annotation\"\n",
    "worksheet = doc.worksheet(sheet_name) #해당 시트가 있는 경우 불러오기\n",
    "## 403 error가 뜰 경우, google sheets API를 활성시켜줘야 함"
   ]
  },
  {
   "cell_type": "code",
   "execution_count": 21,
   "id": "cc8bdecb-1287-4107-95d7-66e5d8f12680",
   "metadata": {},
   "outputs": [
    {
     "name": "stdout",
     "output_type": "stream",
     "text": [
      "[['id', 'sentence', 'sentence_with_entity', 'subject_entity', 'object_entity', 'class']]\n"
     ]
    },
    {
     "data": {
      "text/plain": [
       "{'spreadsheetId': '1J9BJVCgzKk6rE29lCdSn_EEZovLeCRTO6DUdIotn6pA',\n",
       " 'updatedRange': 'pilot_annotation!A2:F199',\n",
       " 'updatedRows': 198,\n",
       " 'updatedColumns': 6,\n",
       " 'updatedCells': 1188}"
      ]
     },
     "execution_count": 21,
     "metadata": {},
     "output_type": "execute_result"
    }
   ],
   "source": [
    "import pandas as pd\n",
    "# 시트의 모든 데이터 가져오기\n",
    "values = worksheet.get_all_values()\n",
    "print(values)\n",
    "header, rows = values[0], values[1:]\n",
    "data = pd.DataFrame(rows, columns=header)\n",
    "\n",
    "column_list = [\"id\",\"sentence\",\"sentence_with_entity\",\"subject_entity\",\"object_entity\",\"class\"]\n",
    "data = data[column_list]\n",
    "data.head()\n",
    "\n",
    "sen_list =  list(data.sentence_with_entity.values)\n",
    "len(sen_list)\n",
    "\n",
    "worksheet.resize(len(id_list)+1,10)\n",
    "list_range = f\"a2:f{len(id_list)+1}\"\n",
    "cell_list = worksheet.range(list_range)\n",
    "\n",
    "for i in range(len(cell_list)//len(column_list)):\n",
    "    cell_list[(6*i)].value = id_list[i]\n",
    "    cell_list[(6*i)+1].value = sentence_list[i]\n",
    "    cell_list[(6*i)+2].value = sentence_with_entities_list[i]\n",
    "    cell_list[(6*i)+3].value = str(subject_entity_list[i])\n",
    "    cell_list[(6*i)+4].value = str(object_entity_list[i])\n",
    "    cell_list[(6*i)+5].value = relation_list[i]\n",
    "worksheet.update_cells(cell_list)"
   ]
  },
  {
   "cell_type": "code",
   "execution_count": null,
   "id": "ce50dea6-f834-414a-8a34-48c0aac514d4",
   "metadata": {},
   "outputs": [],
   "source": []
  }
 ],
 "metadata": {
  "kernelspec": {
   "display_name": "Python 3 (ipykernel)",
   "language": "python",
   "name": "python3"
  },
  "language_info": {
   "codemirror_mode": {
    "name": "ipython",
    "version": 3
   },
   "file_extension": ".py",
   "mimetype": "text/x-python",
   "name": "python",
   "nbconvert_exporter": "python",
   "pygments_lexer": "ipython3",
   "version": "3.8.12"
  }
 },
 "nbformat": 4,
 "nbformat_minor": 5
}
